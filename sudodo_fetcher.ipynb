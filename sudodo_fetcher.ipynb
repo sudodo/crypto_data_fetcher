{
 "cells": [
  {
   "cell_type": "code",
   "execution_count": 11,
   "id": "b539241d-9a2b-475d-811c-4dc02b45e56e",
   "metadata": {},
   "outputs": [],
   "source": [
    "import matplotlib.pyplot as plt\n",
    "import pandas as pd\n",
    "import numpy as np\n",
    "import plotly.express as px\n",
    "import os"
   ]
  },
  {
   "cell_type": "code",
   "execution_count": 22,
   "id": "dfcfe093-52a5-4a2b-9b34-04d84b3ac037",
   "metadata": {},
   "outputs": [],
   "source": [
    "from crypto_data_fetcher.gmo import GmoFetcher\n",
    "import joblib\n",
    "import ccxt"
   ]
  },
  {
   "cell_type": "code",
   "execution_count": 35,
   "id": "bcca9065-5a4e-4d62-944a-f4e71493cd6c",
   "metadata": {},
   "outputs": [],
   "source": [
    "BYBIT = \"Bybit\"\n",
    "FTX = \"FTX\"\n",
    "\n",
    "EXCHANGE = FTX # BYBIT\n",
    "INTERVAL = 1 # min"
   ]
  },
  {
   "cell_type": "code",
   "execution_count": 34,
   "id": "bb2b769b-b672-4683-8410-e5b8960496d6",
   "metadata": {},
   "outputs": [],
   "source": [
    "from crypto_data_fetcher.bybit import BybitFetcher\n",
    "from crypto_data_fetcher.ftx import FtxFetcher"
   ]
  },
  {
   "cell_type": "code",
   "execution_count": null,
   "id": "649650aa-f630-44fc-af5d-ab19b3dbb684",
   "metadata": {},
   "outputs": [
    {
     "name": "stdout",
     "output_type": "stream",
     "text": [
      "2018-09-01.2018-10-01.2018-10-31.2018-11-30.2018-12-30.2019-01-29.2019-02-28.2019-03-30.2019-04-29.2019-05-29.2019-06-28.2019-07-28.2019-08-27.2019-09-26.2019-10-26.2019-11-25.2019-12-25.2020-01-24.2020-02-23.2020-03-24.2020-04-23.2020-05-23.2020-06-22.2020-07-22.2020-08-21.2020-09-20.2020-10-20.2020-11-19.2020-12-19.2021-01-18.2021-02-17.2021-03-19.2021-04-18.2021-05-18.2021-06-17.2021-07-17.2021-08-16.2021-09-15.2021-10-15.2021-11-14."
     ]
    }
   ],
   "source": [
    "if EXCHANGE == \"GMO\":\n",
    "    memory = joblib.Memory('/tmp/gmo_fetcher_cache', verbose=0)\n",
    "    fetcher = GmoFetcher(memory=memory)\n",
    "    df = fetcher.fetch_ohlcv(\n",
    "        market='BTC_JPY', # 市場のシンボルを指定\n",
    "        interval_sec=1 * 60, # 足の間隔を秒単位で指定。この場合は15分足\n",
    "    )\n",
    "    df.to_csv(\"GMO_ohlcv_minute_BTCJPY_20180901_20211124.csv\")"
   ]
  },
  {
   "cell_type": "code",
   "execution_count": 26,
   "id": "15f7a427-196a-4e46-9ec5-2896f4358497",
   "metadata": {},
   "outputs": [],
   "source": [
    "if EXCHANGE == BYBIT:\n",
    "    fetcher = BybitFetcher(ccxt_client=ccxt.bybit())\n",
    "    df = fetcher.fetch_ohlcv(\n",
    "        df=None,                 \n",
    "        start_time=pd.to_datetime('2021-12-01 00:00:00Z', utc=True),\n",
    "        interval_sec=INTERVAL * 60,\n",
    "        market='BTCUSD',\n",
    "        price_type=None)"
   ]
  },
  {
   "cell_type": "code",
   "execution_count": 42,
   "id": "3a5e3a84-9263-442a-a402-2a50fa34a6ee",
   "metadata": {},
   "outputs": [],
   "source": [
    "if EXCHANGE == FTX:\n",
    "    ftx = ccxt.ftx({ \"verbose\": False })\n",
    "    fetcher = FtxFetcher(ccxt_client=ftx)\n",
    "    df = fetcher.fetch_ohlcv(\n",
    "        market='BTC/USD',\n",
    "        interval_sec=INTERVAL * 60,\n",
    "        start_time=pd.to_datetime('2021-12-01 00:00:00Z', utc=True),\n",
    "    )"
   ]
  },
  {
   "cell_type": "code",
   "execution_count": 43,
   "id": "644522a5-9fee-43ec-9290-f6b7cd624383",
   "metadata": {},
   "outputs": [
    {
     "data": {
      "text/plain": [
       "[<matplotlib.lines.Line2D at 0x7f6c9cf1fe80>]"
      ]
     },
     "execution_count": 43,
     "metadata": {},
     "output_type": "execute_result"
    },
    {
     "data": {
      "image/png": "[encoded data removed]",
      "text/plain": [
       "<Figure size 432x288 with 1 Axes>"
      ]
     },
     "metadata": {
      "needs_background": "light"
     },
     "output_type": "display_data"
    }
   ],
   "source": [
    "plt.plot(df[\"cl\"])"
   ]
  },
  {
   "cell_type": "code",
   "execution_count": 44,
   "id": "1f9c95ff-6904-492e-ae53-3ec737ca7daa",
   "metadata": {},
   "outputs": [],
   "source": [
    "df.to_csv(\"test.csv\")"
   ]
  },
  {
   "cell_type": "code",
   "execution_count": 45,
   "id": "9bc499e9-bc83-48d8-ada6-46928155a8b5",
   "metadata": {},
   "outputs": [
    {
     "data": {
      "text/html": [
       "<div>\n",
       "<style scoped>\n",
       "    .dataframe tbody tr th:only-of-type {\n",
       "        vertical-align: middle;\n",
       "    }\n",
       "\n",
       "    .dataframe tbody tr th {\n",
       "        vertical-align: top;\n",
       "    }\n",
       "\n",
       "    .dataframe thead th {\n",
       "        text-align: right;\n",
       "    }\n",
       "</style>\n",
       "<table border=\"1\" class=\"dataframe\">\n",
       "  <thead>\n",
       "    <tr style=\"text-align: right;\">\n",
       "      <th></th>\n",
       "      <th>timestamp</th>\n",
       "      <th>op</th>\n",
       "      <th>hi</th>\n",
       "      <th>lo</th>\n",
       "      <th>cl</th>\n",
       "      <th>volume</th>\n",
       "    </tr>\n",
       "  </thead>\n",
       "  <tbody>\n",
       "    <tr>\n",
       "      <th>0</th>\n",
       "      <td>2021-12-01 00:00:00+00:00</td>\n",
       "      <td>56986.0</td>\n",
       "      <td>57054.0</td>\n",
       "      <td>56863.0</td>\n",
       "      <td>56880.0</td>\n",
       "      <td>1.248711e+06</td>\n",
       "    </tr>\n",
       "    <tr>\n",
       "      <th>1</th>\n",
       "      <td>2021-12-01 00:01:00+00:00</td>\n",
       "      <td>56872.0</td>\n",
       "      <td>56916.0</td>\n",
       "      <td>56784.0</td>\n",
       "      <td>56784.0</td>\n",
       "      <td>5.129694e+05</td>\n",
       "    </tr>\n",
       "    <tr>\n",
       "      <th>2</th>\n",
       "      <td>2021-12-01 00:02:00+00:00</td>\n",
       "      <td>56784.0</td>\n",
       "      <td>56790.0</td>\n",
       "      <td>56708.0</td>\n",
       "      <td>56711.0</td>\n",
       "      <td>9.257457e+05</td>\n",
       "    </tr>\n",
       "    <tr>\n",
       "      <th>3</th>\n",
       "      <td>2021-12-01 00:03:00+00:00</td>\n",
       "      <td>56713.0</td>\n",
       "      <td>56841.0</td>\n",
       "      <td>56690.0</td>\n",
       "      <td>56791.0</td>\n",
       "      <td>1.697789e+06</td>\n",
       "    </tr>\n",
       "    <tr>\n",
       "      <th>4</th>\n",
       "      <td>2021-12-01 00:04:00+00:00</td>\n",
       "      <td>56791.0</td>\n",
       "      <td>56902.0</td>\n",
       "      <td>56785.0</td>\n",
       "      <td>56861.0</td>\n",
       "      <td>3.843225e+05</td>\n",
       "    </tr>\n",
       "    <tr>\n",
       "      <th>...</th>\n",
       "      <td>...</td>\n",
       "      <td>...</td>\n",
       "      <td>...</td>\n",
       "      <td>...</td>\n",
       "      <td>...</td>\n",
       "      <td>...</td>\n",
       "    </tr>\n",
       "    <tr>\n",
       "      <th>20256</th>\n",
       "      <td>2021-12-15 02:03:00+00:00</td>\n",
       "      <td>48047.0</td>\n",
       "      <td>48052.0</td>\n",
       "      <td>48009.0</td>\n",
       "      <td>48010.0</td>\n",
       "      <td>1.117583e+05</td>\n",
       "    </tr>\n",
       "    <tr>\n",
       "      <th>20257</th>\n",
       "      <td>2021-12-15 02:04:00+00:00</td>\n",
       "      <td>48010.0</td>\n",
       "      <td>48034.0</td>\n",
       "      <td>47987.0</td>\n",
       "      <td>47988.0</td>\n",
       "      <td>4.239658e+05</td>\n",
       "    </tr>\n",
       "    <tr>\n",
       "      <th>20258</th>\n",
       "      <td>2021-12-15 02:05:00+00:00</td>\n",
       "      <td>47988.0</td>\n",
       "      <td>47996.0</td>\n",
       "      <td>47918.0</td>\n",
       "      <td>47932.0</td>\n",
       "      <td>4.044684e+05</td>\n",
       "    </tr>\n",
       "    <tr>\n",
       "      <th>20259</th>\n",
       "      <td>2021-12-15 02:06:00+00:00</td>\n",
       "      <td>47932.0</td>\n",
       "      <td>47942.0</td>\n",
       "      <td>47852.0</td>\n",
       "      <td>47917.0</td>\n",
       "      <td>1.203604e+06</td>\n",
       "    </tr>\n",
       "    <tr>\n",
       "      <th>20260</th>\n",
       "      <td>2021-12-15 02:07:00+00:00</td>\n",
       "      <td>47917.0</td>\n",
       "      <td>47920.0</td>\n",
       "      <td>47892.0</td>\n",
       "      <td>47898.0</td>\n",
       "      <td>1.246404e+05</td>\n",
       "    </tr>\n",
       "  </tbody>\n",
       "</table>\n",
       "<p>20261 rows × 6 columns</p>\n",
       "</div>"
      ],
      "text/plain": [
       "                       timestamp       op       hi       lo       cl  \\\n",
       "0      2021-12-01 00:00:00+00:00  56986.0  57054.0  56863.0  56880.0   \n",
       "1      2021-12-01 00:01:00+00:00  56872.0  56916.0  56784.0  56784.0   \n",
       "2      2021-12-01 00:02:00+00:00  56784.0  56790.0  56708.0  56711.0   \n",
       "3      2021-12-01 00:03:00+00:00  56713.0  56841.0  56690.0  56791.0   \n",
       "4      2021-12-01 00:04:00+00:00  56791.0  56902.0  56785.0  56861.0   \n",
       "...                          ...      ...      ...      ...      ...   \n",
       "20256  2021-12-15 02:03:00+00:00  48047.0  48052.0  48009.0  48010.0   \n",
       "20257  2021-12-15 02:04:00+00:00  48010.0  48034.0  47987.0  47988.0   \n",
       "20258  2021-12-15 02:05:00+00:00  47988.0  47996.0  47918.0  47932.0   \n",
       "20259  2021-12-15 02:06:00+00:00  47932.0  47942.0  47852.0  47917.0   \n",
       "20260  2021-12-15 02:07:00+00:00  47917.0  47920.0  47892.0  47898.0   \n",
       "\n",
       "             volume  \n",
       "0      1.248711e+06  \n",
       "1      5.129694e+05  \n",
       "2      9.257457e+05  \n",
       "3      1.697789e+06  \n",
       "4      3.843225e+05  \n",
       "...             ...  \n",
       "20256  1.117583e+05  \n",
       "20257  4.239658e+05  \n",
       "20258  4.044684e+05  \n",
       "20259  1.203604e+06  \n",
       "20260  1.246404e+05  \n",
       "\n",
       "[20261 rows x 6 columns]"
      ]
     },
     "execution_count": 45,
     "metadata": {},
     "output_type": "execute_result"
    }
   ],
   "source": [
    "pd.read_csv(\"test.csv\")"
   ]
  }
 ],
 "metadata": {
  "kernelspec": {
   "display_name": "Python 3 (ipykernel)",
   "language": "python",
   "name": "python3"
  },
  "language_info": {
   "codemirror_mode": {
    "name": "ipython",
    "version": 3
   },
   "file_extension": ".py",
   "mimetype": "text/x-python",
   "name": "python",
   "nbconvert_exporter": "python",
   "pygments_lexer": "ipython3",
   "version": "3.9.6"
  }
 },
 "nbformat": 4,
 "nbformat_minor": 5
}
